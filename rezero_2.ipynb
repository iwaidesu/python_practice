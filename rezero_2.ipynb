{
 "cells": [
  {
   "cell_type": "code",
   "execution_count": 2,
   "metadata": {},
   "outputs": [
    {
     "name": "stdout",
     "output_type": "stream",
     "text": [
      "生成された数字: 10\n",
      "選択されたアイコン: 青\n",
      "それでは獲得した青アイコンで撃破率ＵＰチャレンジを行います。\n"
     ]
    }
   ],
   "source": [
    "import random\n",
    "import time\n",
    "# アイコンとその選択確率の定義\n",
    "icons = [\"青\", \"黄色\", \"緑\", \"赤\", \"鬼\"]\n",
    "\n",
    "# 1から100のランダムな整数を生成\n",
    "rand_num = random.randint(1, 100)\n",
    "\n",
    "# アイコンを決定\n",
    "selected_icon = \"\"\n",
    "if rand_num <= 40:\n",
    "    selected_icon = \"青\"\n",
    "elif rand_num <= 70:\n",
    "    selected_icon = \"黄色\"\n",
    "elif rand_num <= 85:\n",
    "    selected_icon = \"緑\"\n",
    "elif rand_num <= 95:\n",
    "    selected_icon = \"赤\"\n",
    "else:\n",
    "    selected_icon = \"鬼\"\n",
    "\n",
    "# 結果の表示\n",
    "print(f\"生成された数字: {rand_num}\")\n",
    "time.sleep(2)\n",
    "print(f\"選択されたアイコン: {selected_icon}\")\n",
    "time.sleep(1)\n",
    "print(f\"それでは獲得した{selected_icon}アイコンで撃破率ＵＰチャレンジを行います。\")\n",
    "\n",
    "#撃破率UPチャレンジの詳細"
   ]
  }
 ],
 "metadata": {
  "kernelspec": {
   "display_name": "Python 3",
   "language": "python",
   "name": "python3"
  },
  "language_info": {
   "codemirror_mode": {
    "name": "ipython",
    "version": 3
   },
   "file_extension": ".py",
   "mimetype": "text/x-python",
   "name": "python",
   "nbconvert_exporter": "python",
   "pygments_lexer": "ipython3",
   "version": "3.11.4"
  }
 },
 "nbformat": 4,
 "nbformat_minor": 2
}
