{
 "cells": [
  {
   "cell_type": "code",
   "execution_count": 8,
   "metadata": {},
   "outputs": [
    {
     "name": "stdout",
     "output_type": "stream",
     "text": [
      "生成された数字: 2\n",
      "選択されたアイコン: 青\n",
      "それでは獲得した青アイコンで撃破率ＵＰチャレンジを行います。\n",
      "継続回数: 0\n",
      "最終撃破率: 56%\n",
      "この56%で突破チャレンジを行います。\n",
      "\n",
      "【白鯨攻略戦】開始\n",
      "撃破率: 56%\n",
      "チャレンジ 1: 突破失敗\n",
      "白鯨攻略失敗（0回成功）\n"
     ]
    }
   ],
   "source": [
    "import random\n",
    "import time\n",
    "# アイコンとその選択確率の定義\n",
    "icons = [\"青\", \"黄色\", \"緑\", \"赤\", \"鬼\"]\n",
    "\n",
    "# 1から100のランダムな整数を生成\n",
    "rand_num = random.randint(1, 100)\n",
    "\n",
    "# アイコンを決定\n",
    "selected_icon = \"\"\n",
    "if rand_num <= 40:\n",
    "    selected_icon = \"青\"\n",
    "elif rand_num <= 70:\n",
    "    selected_icon = \"黄色\"\n",
    "elif rand_num <= 85:\n",
    "    selected_icon = \"緑\"\n",
    "elif rand_num <= 95:\n",
    "    selected_icon = \"赤\"\n",
    "else:\n",
    "    selected_icon = \"鬼\"\n",
    "\n",
    "# 結果の表示\n",
    "print(f\"生成された数字: {rand_num}\")\n",
    "time.sleep(2)\n",
    "print(f\"選択されたアイコン: {selected_icon}\")\n",
    "time.sleep(1)\n",
    "print(f\"それでは獲得した{selected_icon}アイコンで撃破率ＵＰチャレンジを行います。\")\n",
    "\n",
    "# 撃破率UPチャレンジ\n",
    "base_rate = 56  # 基本撃破率\n",
    "current_rate = base_rate  # 現在の撃破率\n",
    "continue_count = 0  # 継続回数\n",
    "\n",
    "# アイコンに応じたループ確率を設定\n",
    "if selected_icon == \"青\":\n",
    "    loop_probability = 50\n",
    "elif selected_icon == \"黄色\":\n",
    "    loop_probability = 66\n",
    "elif selected_icon == \"緑\":\n",
    "    loop_probability = 86\n",
    "elif selected_icon == \"赤\":\n",
    "    loop_probability = 95\n",
    "else:  # 鬼の場合\n",
    "    loop_probability = 99\n",
    "\n",
    "# 撃破率UPチャレンジのループ\n",
    "while random.randint(1, 100) <= loop_probability:\n",
    "    current_rate += 1  # 撃破率を1%上げる\n",
    "    continue_count += 1  # 継続回数を1増やす\n",
    "    if current_rate >= 100:\n",
    "        break  # 撃破率が100%に達したらループを終了\n",
    "\n",
    "# 結果の表示\n",
    "print(f\"継続回数: {continue_count}\")\n",
    "print(f\"最終撃破率: {current_rate}%\")\n",
    "\n",
    "if current_rate == 100:\n",
    "    print(\"AT確定\")\n",
    "else:\n",
    "    print(f\"この{current_rate}%で突破チャレンジを行います。\")\n",
    "    \n",
    "    # 白鯨攻略戦の開始を表示\n",
    "time.sleep(1)\n",
    "print(\"\\n【白鯨攻略戦】開始\")\n",
    "\n",
    "# 現在の撃破率を表示\n",
    "time.sleep(1)\n",
    "print(f\"撃破率: {current_rate}%\")\n",
    "\n",
    "# チャレンジの回数と成功回数を初期化\n",
    "challenge_count = 0\n",
    "success_count = 0\n",
    "\n",
    "# 最大3回のチャレンジを行うループ\n",
    "while challenge_count < 3:\n",
    "    challenge_count += 1  # チャレンジ回数をカウントアップ\n",
    "    \n",
    "    # 1から100のランダムな数を生成\n",
    "    result = random.randint(1, 100)\n",
    "    \n",
    "    time.sleep(1)  # 1秒待機してから結果を表示\n",
    "    \n",
    "    # 生成された数が撃破率以下なら成功、そうでなければ失敗\n",
    "    if result <= current_rate:\n",
    "        print(f\"チャレンジ {challenge_count}: 突破成功\")\n",
    "        success_count += 1  # 成功回数をカウントアップ\n",
    "    else:\n",
    "        print(f\"チャレンジ {challenge_count}: 突破失敗\")\n",
    "        break  # 失敗した時点でチャレンジ終了\n",
    "\n",
    "# 最終結果の表示\n",
    "time.sleep(1)  # 1秒待機してから最終結果を表示\n",
    "if success_count == 3:\n",
    "    print(\"AT確定\")  # 3回連続成功でAT確定\n",
    "elif success_count > 0:\n",
    "    print(f\"白鯨攻略失敗（{success_count}回成功）\")  # 1回以上成功したが、3回未満の場合\n",
    "else:\n",
    "    print(\"白鯨攻略失敗（0回成功）\")  # 1回も成功しなかった場合"
   ]
  },
  {
   "cell_type": "code",
   "execution_count": 23,
   "metadata": {},
   "outputs": [
    {
     "name": "stdout",
     "output_type": "stream",
     "text": [
      "2\n",
      "3\n",
      "4\n",
      "5\n",
      "6\n",
      "7\n",
      "8\n",
      "9\n",
      "10\n",
      "11\n"
     ]
    }
   ],
   "source": [
    "i=0\n",
    "for x in [1, 2, 3, 4, 5, 6, 7, 8, 9, 10]:\n",
    "    x = x+1\n",
    "    print(x)\n",
    "    "
   ]
  },
  {
   "cell_type": "code",
   "execution_count": 34,
   "metadata": {},
   "outputs": [
    {
     "name": "stdout",
     "output_type": "stream",
     "text": [
      "1\n"
     ]
    }
   ],
   "source": [
    "x=1#右のものを左に入れる\n",
    "print(x)"
   ]
  },
  {
   "cell_type": "code",
   "execution_count": 38,
   "metadata": {},
   "outputs": [
    {
     "name": "stdout",
     "output_type": "stream",
     "text": [
      "2\n"
     ]
    }
   ],
   "source": [
    "x=1+0\n",
    "y=x+1\n",
    "print(y)"
   ]
  },
  {
   "cell_type": "code",
   "execution_count": 39,
   "metadata": {},
   "outputs": [
    {
     "name": "stdout",
     "output_type": "stream",
     "text": [
      "2\n"
     ]
    }
   ],
   "source": [
    "x=1+0\n",
    "x=x+1\n",
    "print(x)"
   ]
  },
  {
   "cell_type": "code",
   "execution_count": 40,
   "metadata": {},
   "outputs": [
    {
     "name": "stdout",
     "output_type": "stream",
     "text": [
      "2\n"
     ]
    }
   ],
   "source": [
    "x=1+0\n",
    "x+=1\n",
    "print(x)"
   ]
  },
  {
   "cell_type": "code",
   "execution_count": 36,
   "metadata": {},
   "outputs": [
    {
     "name": "stdout",
     "output_type": "stream",
     "text": [
      "x+1\n"
     ]
    }
   ],
   "source": [
    "y=\"x+1\"\n",
    "print(y)"
   ]
  },
  {
   "cell_type": "code",
   "execution_count": null,
   "metadata": {},
   "outputs": [],
   "source": []
  },
  {
   "cell_type": "code",
   "execution_count": 37,
   "metadata": {},
   "outputs": [
    {
     "name": "stdout",
     "output_type": "stream",
     "text": [
      "2\n"
     ]
    }
   ],
   "source": [
    "x=1+0\n",
    "print(x+1)"
   ]
  },
  {
   "cell_type": "code",
   "execution_count": 25,
   "metadata": {},
   "outputs": [
    {
     "name": "stdout",
     "output_type": "stream",
     "text": [
      "[1, 2, 3, 4, 5, 6, 7, 8, 9, 10]\n"
     ]
    }
   ],
   "source": [
    "x_list=[1, 2, 3, 4, 5, 6, 7, 8, 9, 10]\n",
    "print(x_list)"
   ]
  },
  {
   "cell_type": "code",
   "execution_count": 26,
   "metadata": {},
   "outputs": [
    {
     "data": {
      "text/plain": [
       "[1, 2, 3, 4, 5, 6, 7, 8, 9, 10]"
      ]
     },
     "execution_count": 26,
     "metadata": {},
     "output_type": "execute_result"
    }
   ],
   "source": [
    "list(range(1,11))"
   ]
  },
  {
   "cell_type": "code",
   "execution_count": null,
   "metadata": {},
   "outputs": [],
   "source": [
    "for 変数 in 繰り返しできるもの:\n",
    "    print(表示したいもの)"
   ]
  },
  {
   "cell_type": "code",
   "execution_count": 51,
   "metadata": {},
   "outputs": [
    {
     "data": {
      "text/plain": [
       "55"
      ]
     },
     "execution_count": 51,
     "metadata": {},
     "output_type": "execute_result"
    }
   ],
   "source": [
    "1+2+3+4+5+6+7+8+9+10"
   ]
  },
  {
   "cell_type": "code",
   "execution_count": 52,
   "metadata": {},
   "outputs": [
    {
     "name": "stdout",
     "output_type": "stream",
     "text": [
      "1\n"
     ]
    }
   ],
   "source": [
    "sum=0\n",
    "sum=0+1\n",
    "print(sum)\n"
   ]
  },
  {
   "cell_type": "code",
   "execution_count": 50,
   "metadata": {},
   "outputs": [
    {
     "name": "stdout",
     "output_type": "stream",
     "text": [
      "11\n"
     ]
    }
   ],
   "source": [
    "sum=0\n",
    "for x in list(range(1,11)):\n",
    "    0+1\n",
    "x+=1\n",
    "print(x)\n",
    "print(sum)"
   ]
  },
  {
   "cell_type": "code",
   "execution_count": 10,
   "metadata": {},
   "outputs": [
    {
     "name": "stdout",
     "output_type": "stream",
     "text": [
      "['りんご', 'オレンジ', 'ぶどう', 'もも', 'メロン']\n"
     ]
    }
   ],
   "source": [
    "x_list=[\"りんご\",\"オレンジ\",\"ぶどう\",\"もも\",\"メロン\"]\n",
    "print() "
   ]
  },
  {
   "cell_type": "code",
   "execution_count": 11,
   "metadata": {},
   "outputs": [
    {
     "name": "stdout",
     "output_type": "stream",
     "text": [
      "[1, 2, 3, 4, 5]\n"
     ]
    }
   ],
   "source": [
    "y_lisu=[1,2,3,4,5]\n",
    "print(y_lisu)"
   ]
  },
  {
   "cell_type": "code",
   "execution_count": 15,
   "metadata": {},
   "outputs": [
    {
     "data": {
      "text/plain": [
       "[1, 2, 3, 4, 5, 6, 7, 8, 9]"
      ]
     },
     "execution_count": 15,
     "metadata": {},
     "output_type": "execute_result"
    }
   ],
   "source": [
    "list(range(1,10))"
   ]
  },
  {
   "cell_type": "code",
   "execution_count": null,
   "metadata": {},
   "outputs": [],
   "source": [
    "()#かっこ\n",
    "{}#なみかっこ,辞書型\n",
    "[]#かくかっこ,リスト\n",
    "[1,2,3]\n",
    "{1:'ぶどう',2:\"りんご\",3:\"オレンジ\"}\n",
    "\n"
   ]
  },
  {
   "cell_type": "code",
   "execution_count": 19,
   "metadata": {},
   "outputs": [
    {
     "name": "stdout",
     "output_type": "stream",
     "text": [
      "{1: 'ぶどう', 2: 'りんご', 3: 'オレンジ'}\n"
     ]
    }
   ],
   "source": [
    "fruit_dict={1:'ぶどう',2:\"りんご\",3:\"オレンジ\"}\n",
    "print(fruit_dict)"
   ]
  },
  {
   "cell_type": "code",
   "execution_count": 42,
   "metadata": {},
   "outputs": [
    {
     "data": {
      "text/plain": [
       "[1, 2, 3]"
      ]
     },
     "execution_count": 42,
     "metadata": {},
     "output_type": "execute_result"
    }
   ],
   "source": [
    "[1,2,3]\n",
    "list(range(1,4))"
   ]
  }
 ],
 "metadata": {
  "kernelspec": {
   "display_name": "Python 3",
   "language": "python",
   "name": "python3"
  },
  "language_info": {
   "codemirror_mode": {
    "name": "ipython",
    "version": 3
   },
   "file_extension": ".py",
   "mimetype": "text/x-python",
   "name": "python",
   "nbconvert_exporter": "python",
   "pygments_lexer": "ipython3",
   "version": "3.11.4"
  }
 },
 "nbformat": 4,
 "nbformat_minor": 2
}
