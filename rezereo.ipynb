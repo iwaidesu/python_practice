{
 "cells": [
  {
   "cell_type": "code",
   "execution_count": 91,
   "metadata": {},
   "outputs": [
    {
     "name": "stdout",
     "output_type": "stream",
     "text": [
      "獲得したアイコン: 黄色\n",
      "0回継続しました。\n",
      "この50%で突破チャレンジを行います。\n"
     ]
    }
   ],
   "source": [
    "import random\n",
    "import time\n",
    "\n",
    "# アイコンの詳細情報（固有の継続率を含む）\n",
    "icons_info = {\n",
    "    \"青\": {\"確率\": 40, \"固有継続率\": 50},\n",
    "    \"黄色\": {\"確率\": 30, \"固有継続率\": 66},\n",
    "    \"緑\": {\"確率\": 15, \"固有継続率\": 86},\n",
    "    \"赤\": {\"確率\": 10, \"固有継続率\": 95},\n",
    "    \"鬼\": {\"確率\": 5, \"固有継続率\": 99}\n",
    "}\n",
    "\n",
    "def select_icon():\n",
    "    \"\"\"アイコンをランダムに選択する\"\"\"\n",
    "    icons = list(icons_info.keys())\n",
    "    probabilities = [info[\"確率\"] for info in icons_info.values()]\n",
    "    return random.choices(icons, weights=probabilities, k=1)[0]\n",
    "\n",
    "def determine_continuation_rate(icon):\n",
    "    \"\"\"継続回数と最終的な継続率を決定する\"\"\"\n",
    "    icon_rate = icons_info[icon][\"固有継続率\"]\n",
    "    current_rate = 50  # 基本継続率は50%から開始\n",
    "    continuation_count = 0\n",
    "\n",
    "    while continuation_count < 50 and random.random() < (icon_rate / 100):\n",
    "        continuation_count += 1\n",
    "        if current_rate < 100:\n",
    "            current_rate += 1\n",
    "\n",
    "    return continuation_count, current_rate\n",
    "\n",
    "def main():\n",
    "    \"\"\"アイコンをランダムに選択する\"\"\"\n",
    "    icons = list(icons_info.keys())\n",
    "    probabilities = [info[\"確率\"] for info in icons_info.values()]\n",
    "    selected_icon=random.choices(icons, weights=probabilities, k=1)[0]\n",
    "    print(f\"獲得したアイコン: {selected_icon}\")\n",
    "\n",
    "    time.sleep(3)  # 3秒待機\n",
    "\n",
    "    continuation_count, final_rate = determine_continuation_rate(selected_icon)\n",
    "    print(f\"{continuation_count}回継続しました。\")\n",
    "\n",
    "    if final_rate == 100:\n",
    "        print(\"AT確定\")\n",
    "    else:\n",
    "        print(f\"この{final_rate}%で突破チャレンジを行います。\")\n",
    "\n",
    "if __name__ == \"__main__\":\n",
    "    main()"
   ]
  },
  {
   "cell_type": "code",
   "execution_count": 92,
   "metadata": {},
   "outputs": [],
   "source": [
    "icons_info = {\n",
    "    \"青\": {\"確率\": 40, \"固有継続率\": 50},\n",
    "    \"黄色\": {\"確率\": 30, \"固有継続率\": 66},\n",
    "    \"緑\": {\"確率\": 15, \"固有継続率\": 86},\n",
    "    \"赤\": {\"確率\": 10, \"固有継続率\": 95},\n",
    "    \"鬼\": {\"確率\": 5, \"固有継続率\": 99}\n",
    "}"
   ]
  },
  {
   "cell_type": "code",
   "execution_count": 93,
   "metadata": {},
   "outputs": [
    {
     "data": {
      "text/plain": [
       "{'青': {'確率': 40, '固有継続率': 50},\n",
       " '黄色': {'確率': 30, '固有継続率': 66},\n",
       " '緑': {'確率': 15, '固有継続率': 86},\n",
       " '赤': {'確率': 10, '固有継続率': 95},\n",
       " '鬼': {'確率': 5, '固有継続率': 99}}"
      ]
     },
     "execution_count": 93,
     "metadata": {},
     "output_type": "execute_result"
    }
   ],
   "source": [
    "icons_info"
   ]
  },
  {
   "cell_type": "code",
   "execution_count": 94,
   "metadata": {},
   "outputs": [
    {
     "data": {
      "text/plain": [
       "dict"
      ]
     },
     "execution_count": 94,
     "metadata": {},
     "output_type": "execute_result"
    }
   ],
   "source": [
    "type(icons_info)"
   ]
  },
  {
   "cell_type": "code",
   "execution_count": 96,
   "metadata": {},
   "outputs": [
    {
     "data": {
      "text/plain": [
       "40"
      ]
     },
     "execution_count": 96,
     "metadata": {},
     "output_type": "execute_result"
    }
   ],
   "source": [
    "icons_info['青']['確率']"
   ]
  },
  {
   "cell_type": "code",
   "execution_count": 97,
   "metadata": {},
   "outputs": [],
   "source": [
    "icon_dict = {'青':50,'黄':66,'緑':86}"
   ]
  },
  {
   "cell_type": "code",
   "execution_count": 98,
   "metadata": {},
   "outputs": [
    {
     "data": {
      "text/plain": [
       "{'青': 50, '黄': 66, '緑': 86}"
      ]
     },
     "execution_count": 98,
     "metadata": {},
     "output_type": "execute_result"
    }
   ],
   "source": [
    "icon_dict"
   ]
  },
  {
   "cell_type": "code",
   "execution_count": 100,
   "metadata": {},
   "outputs": [
    {
     "data": {
      "text/plain": [
       "dict"
      ]
     },
     "execution_count": 100,
     "metadata": {},
     "output_type": "execute_result"
    }
   ],
   "source": [
    "type(icon_dict)"
   ]
  },
  {
   "cell_type": "code",
   "execution_count": 101,
   "metadata": {},
   "outputs": [],
   "source": [
    "color_list = ['青','黄','緑']"
   ]
  },
  {
   "cell_type": "code",
   "execution_count": 113,
   "metadata": {},
   "outputs": [
    {
     "data": {
      "text/plain": [
       "'緑'"
      ]
     },
     "execution_count": 113,
     "metadata": {},
     "output_type": "execute_result"
    }
   ],
   "source": [
    "color_list[-1]"
   ]
  },
  {
   "cell_type": "code",
   "execution_count": 126,
   "metadata": {},
   "outputs": [
    {
     "name": "stdout",
     "output_type": "stream",
     "text": [
      "青 50\n",
      "黄 66\n",
      "緑 86\n"
     ]
    }
   ],
   "source": [
    "import time\n",
    "for icon,number in {'青':50,'黄':66,'緑':86}.items():\n",
    "    print(icon,number)"
   ]
  },
  {
   "cell_type": "code",
   "execution_count": 102,
   "metadata": {},
   "outputs": [
    {
     "ename": "NameError",
     "evalue": "name 'icon_dict' is not defined",
     "output_type": "error",
     "traceback": [
      "\u001b[1;31m---------------------------------------------------------------------------\u001b[0m",
      "\u001b[1;31mNameError\u001b[0m                                 Traceback (most recent call last)",
      "Cell \u001b[1;32mIn[102], line 1\u001b[0m\n\u001b[1;32m----> 1\u001b[0m \u001b[43micon_dict\u001b[49m[\u001b[38;5;241m0\u001b[39m]\n",
      "\u001b[1;31mNameError\u001b[0m: name 'icon_dict' is not defined"
     ]
    }
   ],
   "source": [
    "icon_dict[0]"
   ]
  }
 ],
 "metadata": {
  "kernelspec": {
   "display_name": "Python 3",
   "language": "python",
   "name": "python3"
  },
  "language_info": {
   "codemirror_mode": {
    "name": "ipython",
    "version": 3
   },
   "file_extension": ".py",
   "mimetype": "text/x-python",
   "name": "python",
   "nbconvert_exporter": "python",
   "pygments_lexer": "ipython3",
   "version": "3.11.4"
  }
 },
 "nbformat": 4,
 "nbformat_minor": 2
}
