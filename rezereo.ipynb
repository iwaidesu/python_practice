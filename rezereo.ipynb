{
 "cells": [
  {
   "cell_type": "code",
   "execution_count": 6,
   "metadata": {},
   "outputs": [],
   "source": [
    "import random\n",
    "import time\n",
    "i = 0\n",
    "\n",
    "# 各アイコンのリスト\n",
    "icons = [\"青\", \"黄色\", \"緑\", \"赤\", \"鬼\"]\n",
    "\n",
    "# 各アイコンの確率（百分率）\n",
    "probabilities = [70, 60, 30, 20, 5]\n",
    "while  True:\n",
    "     hikuyatu = random.randint(1,100)\n",
    "     if 100 >= hikuyatu >= 10:\n",
    "       i = i + 1\n",
    "       "
   ]
  }
 ],
 "metadata": {
  "kernelspec": {
   "display_name": "Python 3",
   "language": "python",
   "name": "python3"
  },
  "language_info": {
   "codemirror_mode": {
    "name": "ipython",
    "version": 3
   },
   "file_extension": ".py",
   "mimetype": "text/x-python",
   "name": "python",
   "nbconvert_exporter": "python",
   "pygments_lexer": "ipython3",
   "version": "3.11.4"
  }
 },
 "nbformat": 4,
 "nbformat_minor": 2
}
