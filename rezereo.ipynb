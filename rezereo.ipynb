{
 "cells": [
  {
   "cell_type": "code",
   "execution_count": 9,
   "metadata": {},
   "outputs": [
    {
     "name": "stdout",
     "output_type": "stream",
     "text": [
      "獲得したアイコン: 青\n"
     ]
    }
   ],
   "source": [
    "import random\n",
    "import time\n",
    "i = 0\n",
    "\n",
    "# 各アイコンのリスト\n",
    "icons = [\"青\", \"黄色\", \"緑\", \"赤\", \"鬼\"]\n",
    "\n",
    "# 各アイコンの獲得確率（パーセント）\n",
    "probabilities = [40, 30, 15, 10, 5]\n",
    "\n",
    "# 重み付きランダム選択を行う\n",
    "selected_icon = random.choices(icons, weights=probabilities, k=1)[0]\n",
    "\n",
    "print(f\"獲得したアイコン: {selected_icon}\")\n",
    "\n",
    "\n",
    "       "
   ]
  }
 ],
 "metadata": {
  "kernelspec": {
   "display_name": "Python 3",
   "language": "python",
   "name": "python3"
  },
  "language_info": {
   "codemirror_mode": {
    "name": "ipython",
    "version": 3
   },
   "file_extension": ".py",
   "mimetype": "text/x-python",
   "name": "python",
   "nbconvert_exporter": "python",
   "pygments_lexer": "ipython3",
   "version": "3.11.4"
  }
 },
 "nbformat": 4,
 "nbformat_minor": 2
}
