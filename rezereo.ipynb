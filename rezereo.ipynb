{
 "cells": [
  {
   "cell_type": "code",
   "execution_count": 90,
   "metadata": {},
   "outputs": [
    {
     "name": "stdout",
     "output_type": "stream",
     "text": [
      "獲得したアイコン: 黄色\n",
      "0回継続しました。\n",
      "この50%で突破チャレンジを行います。\n"
     ]
    }
   ],
   "source": [
    "import random\n",
    "import time\n",
    "\n",
    "# アイコンの詳細情報（固有の継続率を含む）\n",
    "icons_info = {\n",
    "    \"青\": {\"確率\": 40, \"固有継続率\": 50},\n",
    "    \"黄色\": {\"確率\": 30, \"固有継続率\": 66},\n",
    "    \"緑\": {\"確率\": 15, \"固有継続率\": 86},\n",
    "    \"赤\": {\"確率\": 10, \"固有継続率\": 95},\n",
    "    \"鬼\": {\"確率\": 5, \"固有継続率\": 99}\n",
    "}\n",
    "\n",
    "def select_icon():\n",
    "    \"\"\"アイコンをランダムに選択する\"\"\"\n",
    "    icons = list(icons_info.keys())\n",
    "    probabilities = [info[\"確率\"] for info in icons_info.values()]\n",
    "    return random.choices(icons, weights=probabilities, k=1)[0]\n",
    "\n",
    "def determine_continuation_rate(icon):\n",
    "    \"\"\"継続回数と最終的な継続率を決定する\"\"\"\n",
    "    icon_rate = icons_info[icon][\"固有継続率\"]\n",
    "    current_rate = 50  # 基本継続率は50%から開始\n",
    "    continuation_count = 0\n",
    "\n",
    "    while continuation_count < 50 and random.random() < (icon_rate / 100):\n",
    "        continuation_count += 1\n",
    "        if current_rate < 100:\n",
    "            current_rate += 1\n",
    "\n",
    "    return continuation_count, current_rate\n",
    "\n",
    "def main():\n",
    "    selected_icon = select_icon()\n",
    "    print(f\"獲得したアイコン: {selected_icon}\")\n",
    "\n",
    "    time.sleep(3)  # 3秒待機\n",
    "\n",
    "    continuation_count, final_rate = determine_continuation_rate(selected_icon)\n",
    "    print(f\"{continuation_count}回継続しました。\")\n",
    "\n",
    "    if final_rate == 100:\n",
    "        print(\"AT確定\")\n",
    "    else:\n",
    "        print(f\"この{final_rate}%で突破チャレンジを行います。\")\n",
    "\n",
    "if __name__ == \"__main__\":\n",
    "    main()"
   ]
  }
 ],
 "metadata": {
  "kernelspec": {
   "display_name": "Python 3",
   "language": "python",
   "name": "python3"
  },
  "language_info": {
   "codemirror_mode": {
    "name": "ipython",
    "version": 3
   },
   "file_extension": ".py",
   "mimetype": "text/x-python",
   "name": "python",
   "nbconvert_exporter": "python",
   "pygments_lexer": "ipython3",
   "version": "3.11.4"
  }
 },
 "nbformat": 4,
 "nbformat_minor": 2
}
