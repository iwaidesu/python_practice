{
 "cells": [
  {
   "cell_type": "code",
   "execution_count": 133,
   "metadata": {},
   "outputs": [
    {
     "name": "stdout",
     "output_type": "stream",
     "text": [
      "ランダムで 1 個のアイコンを獲得しました: ['赤']\n",
      "今から撃破率UPチャレンジを行います。\n",
      "\n",
      "あなたが獲得したアイコンは以下の通りです:\n",
      "- 赤\n"
     ]
    }
   ],
   "source": [
    "import random\n",
    "import time\n",
    "\n",
    "# 各アイコンのリスト\n",
    "icons = [\"青\", \"黄色\", \"緑\", \"赤\", \"鬼\"]\n",
    "\n",
    "# 各アイコンの確率（百分率）\n",
    "probabilities = [70, 60, 30, 20, 5]\n",
    "\n",
    "# ランダムに獲得するアイコンの数を決定 (例: 1～10個)\n",
    "num_icons = random.randint(1, 3)\n",
    "\n",
    "# 確率に従って複数アイコンを選択\n",
    "selected_icons = random.choices(icons, weights=probabilities, k=num_icons)\n",
    "\n",
    "# 結果を表示\n",
    "print(f\"ランダムで {num_icons} 個のアイコンを獲得しました: {selected_icons}\")\n",
    "print('今から撃破率UPチャレンジを行います。')\n",
    "time.sleep(2)\n",
    "\n",
    "# ユーザーが獲得したアイコンを表示\n",
    "print(\"\\nあなたが獲得したアイコンは以下の通りです:\")\n",
    "for icon in selected_icons:\n",
    "    print(f\"- {icon}\")\n",
    "\n"
   ]
  }
 ],
 "metadata": {
  "kernelspec": {
   "display_name": "Python 3",
   "language": "python",
   "name": "python3"
  },
  "language_info": {
   "codemirror_mode": {
    "name": "ipython",
    "version": 3
   },
   "file_extension": ".py",
   "mimetype": "text/x-python",
   "name": "python",
   "nbconvert_exporter": "python",
   "pygments_lexer": "ipython3",
   "version": "3.11.4"
  }
 },
 "nbformat": 4,
 "nbformat_minor": 2
}
